{
  "nbformat": 4,
  "nbformat_minor": 0,
  "metadata": {
    "kernelspec": {
      "display_name": "Python 3",
      "language": "python",
      "name": "python3"
    },
    "language_info": {
      "codemirror_mode": {
        "name": "ipython",
        "version": 3
      },
      "file_extension": ".py",
      "mimetype": "text/x-python",
      "name": "python",
      "nbconvert_exporter": "python",
      "pygments_lexer": "ipython3",
      "version": "3.7.6"
    },
    "colab": {
      "name": "Practice-Markdown.ipynb",
      "provenance": []
    }
  },
  "cells": [
    {
      "cell_type": "markdown",
      "metadata": {
        "id": "MJUDHTiPbZTS"
      },
      "source": [
        "## Practice Markdown"
      ]
    },
    {
      "cell_type": "markdown",
      "metadata": {
        "id": "YT6bqDQbbZTX"
      },
      "source": [
        "This notebook lets you experiment with producing repeatable technical documentation.  Use this notebook to do the following actions:\n",
        "\n",
        "* Create a code cell and print a Python Hello World statement:  `print(\"hello world\")`\n",
        "* Create a Markdown Cell and add a Title using `#` and then a statement using plain text.  You can looks at the source code for this cell to get an idea of how to use Markdown.\n",
        "* Take some ideas from the [Master Markdown Github Guide](https://guides.github.com/features/mastering-markdown/) and implement them here.\n",
        "* Download this notebook as a `.ipynb` file and check into a Github Project.  You can [see an example here](https://github.com/noahgift/duke-coursera-ccf-lab1/blob/main/Practice-Markdown.ipynb).\n",
        "* Open your notebook in Google Colab and save it into the same Github Project.  You can [see an example here](https://github.com/noahgift/duke-coursera-ccf-lab1/blob/main/Practice_Markdown_with_colab.ipynb).\n"
      ]
    },
    {
      "cell_type": "code",
      "metadata": {
        "id": "AtM77-pabZTY",
        "outputId": "73612743-57d0-4ef2-8638-2cffe93d36d8"
      },
      "source": [
        "print(\"hello world\")"
      ],
      "execution_count": null,
      "outputs": [
        {
          "name": "stdout",
          "output_type": "stream",
          "text": [
            "hello world\n"
          ]
        }
      ]
    },
    {
      "cell_type": "markdown",
      "metadata": {
        "id": "d0VfzY-9bZTa"
      },
      "source": [
        "# This is Header1"
      ]
    },
    {
      "cell_type": "markdown",
      "metadata": {
        "id": "FSMPEYlLbZTb"
      },
      "source": [
        "*This is italic*"
      ]
    },
    {
      "cell_type": "markdown",
      "metadata": {
        "id": "43U-dGuzbZTc"
      },
      "source": [
        "**This is bold**"
      ]
    },
    {
      "cell_type": "markdown",
      "metadata": {
        "id": "z-UmtrVSbZTc"
      },
      "source": [
        "This\n",
        "> is\n",
        "> a\n",
        "> blockquote"
      ]
    },
    {
      "cell_type": "markdown",
      "metadata": {
        "id": "llwmH4M9bZTe"
      },
      "source": [
        "First Header | Second Header\n",
        "------------ | -------------\n",
        "Content cell 1 | Content cell 2\n",
        "Content column 1 | Content column 2"
      ]
    },
    {
      "cell_type": "code",
      "metadata": {
        "id": "mvNuVVn5bZTf"
      },
      "source": [
        ""
      ],
      "execution_count": null,
      "outputs": []
    }
  ]
}